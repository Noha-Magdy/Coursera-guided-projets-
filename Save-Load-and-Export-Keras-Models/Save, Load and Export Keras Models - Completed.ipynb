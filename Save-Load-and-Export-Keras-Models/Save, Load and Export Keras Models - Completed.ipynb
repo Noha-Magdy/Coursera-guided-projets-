{
  "nbformat": 4,
  "nbformat_minor": 0,
  "metadata": {
    "kernelspec": {
      "display_name": "Python 3",
      "language": "python",
      "name": "python3"
    },
    "language_info": {
      "codemirror_mode": {
        "name": "ipython",
        "version": 3
      },
      "file_extension": ".py",
      "mimetype": "text/x-python",
      "name": "python",
      "nbconvert_exporter": "python",
      "pygments_lexer": "ipython3",
      "version": "3.6.8"
    },
    "colab": {
      "name": "Save, Load and Export Keras Models - Completed.ipynb",
      "provenance": []
    }
  },
  "cells": [
    {
      "cell_type": "markdown",
      "metadata": {
        "id": "kKZfNU3DnTGh",
        "colab_type": "text"
      },
      "source": [
        "# Save, Load and Export Models in Keras"
      ]
    },
    {
      "cell_type": "markdown",
      "metadata": {
        "id": "9NLKAIbDnTGi",
        "colab_type": "text"
      },
      "source": [
        "## Task 1: Import Libraries"
      ]
    },
    {
      "cell_type": "code",
      "metadata": {
        "id": "k_4QApv-nTGj",
        "colab_type": "code",
        "colab": {
          "base_uri": "https://localhost:8080/",
          "height": 52
        },
        "outputId": "5e5296a8-e801-4cd5-9deb-d2c027d3d5af"
      },
      "source": [
        "import tensorflow as tf\n",
        "import numpy as np\n",
        "import os\n",
        "\n",
        "print('This notebook works with TensorFlow version:', tf.__version__)\n",
        "\n",
        "folders = ['tmp', 'models', 'model_name', 'weights']\n",
        "for folder in folders:\n",
        "    if not os.path.isdir(folder):\n",
        "        os.mkdir(folder)\n",
        "\n",
        "print(os.listdir('.'))"
      ],
      "execution_count": 1,
      "outputs": [
        {
          "output_type": "stream",
          "text": [
            "This notebook works with TensorFlow version: 2.2.0\n",
            "['.config', 'weights', 'model_name', 'tmp', 'models', 'sample_data']\n"
          ],
          "name": "stdout"
        }
      ]
    },
    {
      "cell_type": "markdown",
      "metadata": {
        "id": "lFfER3NVnTGo",
        "colab_type": "text"
      },
      "source": [
        "## Task 2: Create Model"
      ]
    },
    {
      "cell_type": "code",
      "metadata": {
        "id": "Rzdbx35tnTGp",
        "colab_type": "code",
        "colab": {
          "base_uri": "https://localhost:8080/",
          "height": 265
        },
        "outputId": "82b5be00-40a6-4f91-e39d-202dd7433265"
      },
      "source": [
        "def create_model():\n",
        "    model = tf.keras.models.Sequential([\n",
        "        tf.keras.layers.Dense(128, activation='relu', input_shape=(784,)),\n",
        "        tf.keras.layers.Dense(128, activation='relu'),\n",
        "        tf.keras.layers.Dense(10, activation='softmax')\n",
        "    ])\n",
        "    model.compile(loss='categorical_crossentropy', optimizer='adam', metrics=['acc'])\n",
        "    return model\n",
        "\n",
        "model = create_model()\n",
        "model.summary()"
      ],
      "execution_count": 2,
      "outputs": [
        {
          "output_type": "stream",
          "text": [
            "Model: \"sequential\"\n",
            "_________________________________________________________________\n",
            "Layer (type)                 Output Shape              Param #   \n",
            "=================================================================\n",
            "dense (Dense)                (None, 128)               100480    \n",
            "_________________________________________________________________\n",
            "dense_1 (Dense)              (None, 128)               16512     \n",
            "_________________________________________________________________\n",
            "dense_2 (Dense)              (None, 10)                1290      \n",
            "=================================================================\n",
            "Total params: 118,282\n",
            "Trainable params: 118,282\n",
            "Non-trainable params: 0\n",
            "_________________________________________________________________\n"
          ],
          "name": "stdout"
        }
      ]
    },
    {
      "cell_type": "markdown",
      "metadata": {
        "id": "jdDitja3nTGt",
        "colab_type": "text"
      },
      "source": [
        "## Task 3: Data Preprocessing"
      ]
    },
    {
      "cell_type": "code",
      "metadata": {
        "id": "sWMSvtU5nTGt",
        "colab_type": "code",
        "colab": {
          "base_uri": "https://localhost:8080/",
          "height": 158
        },
        "outputId": "b2863a59-3426-4b64-a579-459c20825452"
      },
      "source": [
        "(x_train, y_train), (x_test, y_test) = tf.keras.datasets.fashion_mnist.load_data()\n",
        "\n",
        "x_train = np.reshape(x_train, (x_train.shape[0], 784))/255.\n",
        "x_test = np.reshape(x_test, (x_test.shape[0], 784))/255.\n",
        "\n",
        "y_train = tf.keras.utils.to_categorical(y_train)\n",
        "y_test = tf.keras.utils.to_categorical(y_test)"
      ],
      "execution_count": 3,
      "outputs": [
        {
          "output_type": "stream",
          "text": [
            "Downloading data from https://storage.googleapis.com/tensorflow/tf-keras-datasets/train-labels-idx1-ubyte.gz\n",
            "32768/29515 [=================================] - 0s 0us/step\n",
            "Downloading data from https://storage.googleapis.com/tensorflow/tf-keras-datasets/train-images-idx3-ubyte.gz\n",
            "26427392/26421880 [==============================] - 0s 0us/step\n",
            "Downloading data from https://storage.googleapis.com/tensorflow/tf-keras-datasets/t10k-labels-idx1-ubyte.gz\n",
            "8192/5148 [===============================================] - 0s 0us/step\n",
            "Downloading data from https://storage.googleapis.com/tensorflow/tf-keras-datasets/t10k-images-idx3-ubyte.gz\n",
            "4423680/4422102 [==============================] - 0s 0us/step\n"
          ],
          "name": "stdout"
        }
      ]
    },
    {
      "cell_type": "markdown",
      "metadata": {
        "id": "SuLd7vPPnTGx",
        "colab_type": "text"
      },
      "source": [
        "## Task 4: Model Checkpoint During Training"
      ]
    },
    {
      "cell_type": "code",
      "metadata": {
        "id": "yyTcsPEBnTGx",
        "colab_type": "code",
        "colab": {
          "base_uri": "https://localhost:8080/",
          "height": 87
        },
        "outputId": "4d68ccfd-5b76-4e62-cd7b-91a119fdba82"
      },
      "source": [
        "checkpoint_dir = 'weights/'\n",
        "\n",
        "_ = model.fit(\n",
        "    x_train, y_train,\n",
        "    validation_data=(x_test, y_test),\n",
        "    epochs=2,\n",
        "    batch_size=512,\n",
        "    callbacks=[\n",
        "        tf.keras.callbacks.ModelCheckpoint(\n",
        "            os.path.join(checkpoint_dir, 'epoch_{epoch:02d}_acc_{val_acc:.4f}'),\n",
        "            monitor='val_acc', save_weights_only=True, save_best_only=True\n",
        "        )\n",
        "    ]\n",
        ")"
      ],
      "execution_count": 4,
      "outputs": [
        {
          "output_type": "stream",
          "text": [
            "Epoch 1/2\n",
            "118/118 [==============================] - 1s 11ms/step - loss: 0.7030 - acc: 0.7624 - val_loss: 0.4980 - val_acc: 0.8212\n",
            "Epoch 2/2\n",
            "118/118 [==============================] - 1s 8ms/step - loss: 0.4327 - acc: 0.8471 - val_loss: 0.4334 - val_acc: 0.8456\n"
          ],
          "name": "stdout"
        }
      ]
    },
    {
      "cell_type": "code",
      "metadata": {
        "id": "l2gHw2donTG0",
        "colab_type": "code",
        "colab": {
          "base_uri": "https://localhost:8080/",
          "height": 105
        },
        "outputId": "78798441-b36f-4c71-c76b-f13f4126a31a"
      },
      "source": [
        "os.listdir(checkpoint_dir)"
      ],
      "execution_count": 5,
      "outputs": [
        {
          "output_type": "execute_result",
          "data": {
            "text/plain": [
              "['epoch_01_acc_0.8212.data-00000-of-00001',\n",
              " 'checkpoint',\n",
              " 'epoch_02_acc_0.8456.index',\n",
              " 'epoch_01_acc_0.8212.index',\n",
              " 'epoch_02_acc_0.8456.data-00000-of-00001']"
            ]
          },
          "metadata": {
            "tags": []
          },
          "execution_count": 5
        }
      ]
    },
    {
      "cell_type": "markdown",
      "metadata": {
        "id": "RtshGrOvnTG4",
        "colab_type": "text"
      },
      "source": [
        "## Task 5: Load Weights"
      ]
    },
    {
      "cell_type": "code",
      "metadata": {
        "id": "N4C2Vc-nnTG4",
        "colab_type": "code",
        "colab": {
          "base_uri": "https://localhost:8080/",
          "height": 34
        },
        "outputId": "2038ab6c-413c-40a9-da12-87b24b758e84"
      },
      "source": [
        "model = create_model()\n",
        "print(model.evaluate(x_test, y_test, verbose=False))"
      ],
      "execution_count": 6,
      "outputs": [
        {
          "output_type": "stream",
          "text": [
            "[2.353929042816162, 0.08560000360012054]\n"
          ],
          "name": "stdout"
        }
      ]
    },
    {
      "cell_type": "code",
      "metadata": {
        "id": "qQPLs7dqnTG9",
        "colab_type": "code",
        "colab": {
          "base_uri": "https://localhost:8080/",
          "height": 34
        },
        "outputId": "f6864123-4c6f-4f9a-9071-fbe569e77035"
      },
      "source": [
        "model.load_weights('weights/epoch_02_acc_0.8456')\n",
        "print(model.evaluate(x_test, y_test, verbose=False))"
      ],
      "execution_count": 10,
      "outputs": [
        {
          "output_type": "stream",
          "text": [
            "[0.43342486023902893, 0.8456000089645386]\n"
          ],
          "name": "stdout"
        }
      ]
    },
    {
      "cell_type": "markdown",
      "metadata": {
        "id": "SfQeeRfZnTHC",
        "colab_type": "text"
      },
      "source": [
        "## Task 6: Saving Complete Model During Training"
      ]
    },
    {
      "cell_type": "code",
      "metadata": {
        "id": "Ys0lnWDenTHC",
        "colab_type": "code",
        "colab": {
          "base_uri": "https://localhost:8080/",
          "height": 87
        },
        "outputId": "f4e80c0a-d131-41fe-b008-c7459063824d"
      },
      "source": [
        "models_dir = 'models'\n",
        "\n",
        "model = create_model()\n",
        "\n",
        "_ = model.fit(\n",
        "    x_train, y_train,\n",
        "    validation_data=(x_test, y_test),\n",
        "    epochs=2,\n",
        "    batch_size=512,\n",
        "    callbacks=[\n",
        "        tf.keras.callbacks.ModelCheckpoint(\n",
        "            os.path.join(models_dir, 'epoch_{epoch:02d}_acc_{val_acc:.4f}.h5'),\n",
        "            monitor='val_acc', save_weights_only=False, save_best_only=False\n",
        "        )\n",
        "    ]\n",
        ")"
      ],
      "execution_count": 11,
      "outputs": [
        {
          "output_type": "stream",
          "text": [
            "Epoch 1/2\n",
            "118/118 [==============================] - 1s 9ms/step - loss: 0.6544 - acc: 0.7811 - val_loss: 0.5206 - val_acc: 0.8139\n",
            "Epoch 2/2\n",
            "118/118 [==============================] - 1s 9ms/step - loss: 0.4296 - acc: 0.8490 - val_loss: 0.4328 - val_acc: 0.8452\n"
          ],
          "name": "stdout"
        }
      ]
    },
    {
      "cell_type": "code",
      "metadata": {
        "id": "_ows8Jq4nTHH",
        "colab_type": "code",
        "colab": {
          "base_uri": "https://localhost:8080/",
          "height": 34
        },
        "outputId": "3941e777-5a40-4759-f7f4-c1dd30ccb538"
      },
      "source": [
        "os.listdir(models_dir)"
      ],
      "execution_count": 12,
      "outputs": [
        {
          "output_type": "execute_result",
          "data": {
            "text/plain": [
              "['epoch_02_acc_0.8452.h5', 'epoch_01_acc_0.8139.h5']"
            ]
          },
          "metadata": {
            "tags": []
          },
          "execution_count": 12
        }
      ]
    },
    {
      "cell_type": "markdown",
      "metadata": {
        "id": "wjuWOukNnTHN",
        "colab_type": "text"
      },
      "source": [
        "## Task 7: Load Models"
      ]
    },
    {
      "cell_type": "code",
      "metadata": {
        "id": "hTNaAi3WnTHO",
        "colab_type": "code",
        "colab": {
          "base_uri": "https://localhost:8080/",
          "height": 34
        },
        "outputId": "a3278abc-6545-4329-a0fc-c4c83173346c"
      },
      "source": [
        "model = create_model()\n",
        "print(model.evaluate(x_test, y_test, verbose=False))"
      ],
      "execution_count": 13,
      "outputs": [
        {
          "output_type": "stream",
          "text": [
            "[2.3219082355499268, 0.14149999618530273]\n"
          ],
          "name": "stdout"
        }
      ]
    },
    {
      "cell_type": "code",
      "metadata": {
        "id": "OYrdJBI-nTHU",
        "colab_type": "code",
        "colab": {
          "base_uri": "https://localhost:8080/",
          "height": 283
        },
        "outputId": "cb96c5e6-61f9-4ef8-9de3-2b7d23fb3cb4"
      },
      "source": [
        "model = tf.keras.models.load_model('models/epoch_02_acc_0.8452.h5')\n",
        "model.summary()\n",
        "print(model.evaluate(x_test, y_test, verbose=False))"
      ],
      "execution_count": 15,
      "outputs": [
        {
          "output_type": "stream",
          "text": [
            "Model: \"sequential_2\"\n",
            "_________________________________________________________________\n",
            "Layer (type)                 Output Shape              Param #   \n",
            "=================================================================\n",
            "dense_6 (Dense)              (None, 128)               100480    \n",
            "_________________________________________________________________\n",
            "dense_7 (Dense)              (None, 128)               16512     \n",
            "_________________________________________________________________\n",
            "dense_8 (Dense)              (None, 10)                1290      \n",
            "=================================================================\n",
            "Total params: 118,282\n",
            "Trainable params: 118,282\n",
            "Non-trainable params: 0\n",
            "_________________________________________________________________\n",
            "[0.4328327178955078, 0.8452000021934509]\n"
          ],
          "name": "stdout"
        }
      ]
    },
    {
      "cell_type": "markdown",
      "metadata": {
        "id": "Vv7-18WInTHY",
        "colab_type": "text"
      },
      "source": [
        "## Task 8: Manually Saving Weights and Models"
      ]
    },
    {
      "cell_type": "code",
      "metadata": {
        "id": "OXLq9R4pnTHZ",
        "colab_type": "code",
        "colab": {
          "base_uri": "https://localhost:8080/",
          "height": 34
        },
        "outputId": "cd832842-be97-4c20-bfd1-52244b02c03a"
      },
      "source": [
        "model.save_weights('tmp/manually_saved')\n",
        "print(os.listdir('tmp'))"
      ],
      "execution_count": 16,
      "outputs": [
        {
          "output_type": "stream",
          "text": [
            "['checkpoint', 'manually_saved.data-00000-of-00001', 'manually_saved.index']\n"
          ],
          "name": "stdout"
        }
      ]
    },
    {
      "cell_type": "code",
      "metadata": {
        "id": "fH5OoRIGnTHe",
        "colab_type": "code",
        "colab": {
          "base_uri": "https://localhost:8080/",
          "height": 34
        },
        "outputId": "e5c3a4f5-28c9-4639-f3cf-35cf9163eabd"
      },
      "source": [
        "model.save('tmp/manually_saved_model.h5')\n",
        "print(os.listdir('tmp'))"
      ],
      "execution_count": 17,
      "outputs": [
        {
          "output_type": "stream",
          "text": [
            "['checkpoint', 'manually_saved.data-00000-of-00001', 'manually_saved_model.h5', 'manually_saved.index']\n"
          ],
          "name": "stdout"
        }
      ]
    },
    {
      "cell_type": "markdown",
      "metadata": {
        "id": "2hF9TrNsnTHi",
        "colab_type": "text"
      },
      "source": [
        "## Task 9: Exporting and Restoring SavedModel Format"
      ]
    },
    {
      "cell_type": "code",
      "metadata": {
        "id": "rI4jkjT3nTHk",
        "colab_type": "code",
        "colab": {
          "base_uri": "https://localhost:8080/",
          "height": 125
        },
        "outputId": "5eab236e-f2b4-42ac-86d0-ad3a32eb89fb"
      },
      "source": [
        "model.save('model_name')\n",
        "print(os.listdir('model_name'))"
      ],
      "execution_count": 18,
      "outputs": [
        {
          "output_type": "stream",
          "text": [
            "WARNING:tensorflow:From /usr/local/lib/python3.6/dist-packages/tensorflow/python/ops/resource_variable_ops.py:1817: calling BaseResourceVariable.__init__ (from tensorflow.python.ops.resource_variable_ops) with constraint is deprecated and will be removed in a future version.\n",
            "Instructions for updating:\n",
            "If using Keras pass *_constraint arguments to layers.\n",
            "INFO:tensorflow:Assets written to: model_name/assets\n",
            "['assets', 'saved_model.pb', 'variables']\n"
          ],
          "name": "stdout"
        }
      ]
    },
    {
      "cell_type": "code",
      "metadata": {
        "id": "p_NkaVvFnTHp",
        "colab_type": "code",
        "colab": {
          "base_uri": "https://localhost:8080/",
          "height": 34
        },
        "outputId": "19c03f00-b022-4590-a55c-116d154713d5"
      },
      "source": [
        "model = tf.keras.models.load_model('model_name')\n",
        "print(model.evaluate(x_test, y_test, verbose=False))"
      ],
      "execution_count": 19,
      "outputs": [
        {
          "output_type": "stream",
          "text": [
            "[0.4328327178955078, 0.8452000021934509]\n"
          ],
          "name": "stdout"
        }
      ]
    }
  ]
}